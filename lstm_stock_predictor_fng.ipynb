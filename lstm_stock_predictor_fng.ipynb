{
 "cells": [
  {
   "cell_type": "markdown",
   "metadata": {},
   "source": [
    "# LSTM Stock Predictor: Fear and Greed Index"
   ]
  },
  {
   "cell_type": "markdown",
   "metadata": {},
   "source": [
    "In this notebook I will be building and training a custom LSTM RNN that uses a 10 day window of Bitcoin fear and greed index values to predict the 11th day closing price. "
   ]
  },
  {
   "cell_type": "markdown",
   "metadata": {},
   "source": [
    "## PREPERATION"
   ]
  },
  {
   "cell_type": "markdown",
   "metadata": {},
   "source": [
    "### Import Libraries and Dependencies"
   ]
  },
  {
   "cell_type": "code",
   "execution_count": 8,
   "metadata": {},
   "outputs": [],
   "source": [
    "import numpy as np\n",
    "import pandas as pd\n",
    "import hvplot.pandas\n",
    "from sklearn.preprocessing import MinMaxScaler\n",
    "from sklearn.model_selection import train_test_split\n",
    "%matplotlib inline\n",
    "from tensorflow.keras.models import Sequential\n",
    "from tensorflow.keras.layers import LSTM, Dense, Dropout\n",
    "# Set the random seed for reproducibility\n",
    "from numpy.random import seed\n",
    "seed(1)\n",
    "from tensorflow import random\n",
    "random.set_seed(2)"
   ]
  },
  {
   "cell_type": "markdown",
   "metadata": {},
   "source": [
    "### Import Data"
   ]
  },
  {
   "cell_type": "code",
   "execution_count": 9,
   "metadata": {},
   "outputs": [
    {
     "data": {
      "text/html": [
       "<div>\n",
       "<style scoped>\n",
       "    .dataframe tbody tr th:only-of-type {\n",
       "        vertical-align: middle;\n",
       "    }\n",
       "\n",
       "    .dataframe tbody tr th {\n",
       "        vertical-align: top;\n",
       "    }\n",
       "\n",
       "    .dataframe thead th {\n",
       "        text-align: right;\n",
       "    }\n",
       "</style>\n",
       "<table border=\"1\" class=\"dataframe\">\n",
       "  <thead>\n",
       "    <tr style=\"text-align: right;\">\n",
       "      <th></th>\n",
       "      <th>fng_value</th>\n",
       "    </tr>\n",
       "    <tr>\n",
       "      <th>date</th>\n",
       "      <th></th>\n",
       "    </tr>\n",
       "  </thead>\n",
       "  <tbody>\n",
       "    <tr>\n",
       "      <th>2019-07-29</th>\n",
       "      <td>19</td>\n",
       "    </tr>\n",
       "    <tr>\n",
       "      <th>2019-07-28</th>\n",
       "      <td>16</td>\n",
       "    </tr>\n",
       "    <tr>\n",
       "      <th>2019-07-27</th>\n",
       "      <td>47</td>\n",
       "    </tr>\n",
       "    <tr>\n",
       "      <th>2019-07-26</th>\n",
       "      <td>24</td>\n",
       "    </tr>\n",
       "    <tr>\n",
       "      <th>2019-07-25</th>\n",
       "      <td>42</td>\n",
       "    </tr>\n",
       "  </tbody>\n",
       "</table>\n",
       "</div>"
      ],
      "text/plain": [
       "             fng_value\n",
       "date                  \n",
       "2019-07-29          19\n",
       "2019-07-28          16\n",
       "2019-07-27          47\n",
       "2019-07-26          24\n",
       "2019-07-25          42"
      ]
     },
     "execution_count": 9,
     "metadata": {},
     "output_type": "execute_result"
    }
   ],
   "source": [
    "# Here I load the fear and greed sentiment data for Bitcoin.\n",
    "df = pd.read_csv('btc_sentiment.csv', index_col=\"date\", infer_datetime_format=True, parse_dates=True)\n",
    "df = df.drop(columns=\"fng_classification\")\n",
    "df.head()"
   ]
  },
  {
   "cell_type": "code",
   "execution_count": 10,
   "metadata": {},
   "outputs": [
    {
     "data": {
      "text/plain": [
       "Date\n",
       "2019-07-25    9882.429688\n",
       "2019-07-26    9847.450195\n",
       "2019-07-27    9478.320313\n",
       "2019-07-28    9531.769531\n",
       "2019-07-29    9529.889648\n",
       "Name: Close, dtype: float64"
      ]
     },
     "execution_count": 10,
     "metadata": {},
     "output_type": "execute_result"
    }
   ],
   "source": [
    "# Here I load the historical closing prices for Bitcoin.\n",
    "df2 = pd.read_csv('btc_historic.csv', index_col=\"Date\", infer_datetime_format=True, parse_dates=True)['Close']\n",
    "df2 = df2.sort_index()\n",
    "df2.tail()"
   ]
  },
  {
   "cell_type": "code",
   "execution_count": 11,
   "metadata": {},
   "outputs": [
    {
     "data": {
      "text/html": [
       "<div>\n",
       "<style scoped>\n",
       "    .dataframe tbody tr th:only-of-type {\n",
       "        vertical-align: middle;\n",
       "    }\n",
       "\n",
       "    .dataframe tbody tr th {\n",
       "        vertical-align: top;\n",
       "    }\n",
       "\n",
       "    .dataframe thead th {\n",
       "        text-align: right;\n",
       "    }\n",
       "</style>\n",
       "<table border=\"1\" class=\"dataframe\">\n",
       "  <thead>\n",
       "    <tr style=\"text-align: right;\">\n",
       "      <th></th>\n",
       "      <th>fng_value</th>\n",
       "      <th>Close</th>\n",
       "    </tr>\n",
       "  </thead>\n",
       "  <tbody>\n",
       "    <tr>\n",
       "      <th>2019-07-25</th>\n",
       "      <td>42</td>\n",
       "      <td>9882.429688</td>\n",
       "    </tr>\n",
       "    <tr>\n",
       "      <th>2019-07-26</th>\n",
       "      <td>24</td>\n",
       "      <td>9847.450195</td>\n",
       "    </tr>\n",
       "    <tr>\n",
       "      <th>2019-07-27</th>\n",
       "      <td>47</td>\n",
       "      <td>9478.320313</td>\n",
       "    </tr>\n",
       "    <tr>\n",
       "      <th>2019-07-28</th>\n",
       "      <td>16</td>\n",
       "      <td>9531.769531</td>\n",
       "    </tr>\n",
       "    <tr>\n",
       "      <th>2019-07-29</th>\n",
       "      <td>19</td>\n",
       "      <td>9529.889648</td>\n",
       "    </tr>\n",
       "  </tbody>\n",
       "</table>\n",
       "</div>"
      ],
      "text/plain": [
       "             fng_value        Close\n",
       "2019-07-25          42  9882.429688\n",
       "2019-07-26          24  9847.450195\n",
       "2019-07-27          47  9478.320313\n",
       "2019-07-28          16  9531.769531\n",
       "2019-07-29          19  9529.889648"
      ]
     },
     "execution_count": 11,
     "metadata": {},
     "output_type": "execute_result"
    }
   ],
   "source": [
    "# I join the data into a single DataFrame to work from.\n",
    "df = df.join(df2, how=\"inner\")\n",
    "df.tail()"
   ]
  },
  {
   "cell_type": "code",
   "execution_count": 12,
   "metadata": {},
   "outputs": [
    {
     "data": {
      "text/html": [
       "<div>\n",
       "<style scoped>\n",
       "    .dataframe tbody tr th:only-of-type {\n",
       "        vertical-align: middle;\n",
       "    }\n",
       "\n",
       "    .dataframe tbody tr th {\n",
       "        vertical-align: top;\n",
       "    }\n",
       "\n",
       "    .dataframe thead th {\n",
       "        text-align: right;\n",
       "    }\n",
       "</style>\n",
       "<table border=\"1\" class=\"dataframe\">\n",
       "  <thead>\n",
       "    <tr style=\"text-align: right;\">\n",
       "      <th></th>\n",
       "      <th>fng_value</th>\n",
       "      <th>Close</th>\n",
       "    </tr>\n",
       "  </thead>\n",
       "  <tbody>\n",
       "    <tr>\n",
       "      <th>2018-02-01</th>\n",
       "      <td>30</td>\n",
       "      <td>9114.719727</td>\n",
       "    </tr>\n",
       "    <tr>\n",
       "      <th>2018-02-02</th>\n",
       "      <td>15</td>\n",
       "      <td>8870.820313</td>\n",
       "    </tr>\n",
       "    <tr>\n",
       "      <th>2018-02-03</th>\n",
       "      <td>40</td>\n",
       "      <td>9251.269531</td>\n",
       "    </tr>\n",
       "    <tr>\n",
       "      <th>2018-02-04</th>\n",
       "      <td>24</td>\n",
       "      <td>8218.049805</td>\n",
       "    </tr>\n",
       "    <tr>\n",
       "      <th>2018-02-05</th>\n",
       "      <td>11</td>\n",
       "      <td>6937.080078</td>\n",
       "    </tr>\n",
       "  </tbody>\n",
       "</table>\n",
       "</div>"
      ],
      "text/plain": [
       "             fng_value        Close\n",
       "2018-02-01          30  9114.719727\n",
       "2018-02-02          15  8870.820313\n",
       "2018-02-03          40  9251.269531\n",
       "2018-02-04          24  8218.049805\n",
       "2018-02-05          11  6937.080078"
      ]
     },
     "execution_count": 12,
     "metadata": {},
     "output_type": "execute_result"
    }
   ],
   "source": [
    "df.head()"
   ]
  },
  {
   "cell_type": "markdown",
   "metadata": {},
   "source": [
    "### Data Pre-Processing"
   ]
  },
  {
   "cell_type": "markdown",
   "metadata": {},
   "source": [
    "Below I will define a funtion that will accept the column number for the features data, X and another for the target data, y. It will then group and slice the data with a rolling window of Xt-n to predict Xt. In the end it returns a numpy array of X and y."
   ]
  },
  {
   "cell_type": "code",
   "execution_count": 13,
   "metadata": {},
   "outputs": [],
   "source": [
    "def window_data(df, window, feature_col_number, target_col_number):\n",
    "    X = []\n",
    "    y = []\n",
    "    for i in range(len(df) - window - 1):\n",
    "        features = df.iloc[i:(i + window), feature_col_number]\n",
    "        target = df.iloc[(i + window), target_col_number]\n",
    "        X.append(features)\n",
    "        y.append(target)\n",
    "    return np.array(X), np.array(y).reshape(-1, 1)"
   ]
  },
  {
   "cell_type": "code",
   "execution_count": 14,
   "metadata": {},
   "outputs": [],
   "source": [
    "# I will be predicting closing prices using a 10 day window of previous fng values so I declare a variable for window_size and assign it the integer or value of 10.\n",
    "window_size = 10"
   ]
  },
  {
   "cell_type": "markdown",
   "metadata": {},
   "source": [
    "Here I call my window_data function with the argument of my joined dataframe, my window size of 10 and the assignment of 0 for my features column because our feature will be the \"fng_value\" and 1 for the target, which is the \"Close\" column."
   ]
  },
  {
   "cell_type": "code",
   "execution_count": 15,
   "metadata": {},
   "outputs": [],
   "source": [
    "feature_column = 0\n",
    "target_column = 1\n",
    "X, y = window_data(df, window_size, feature_column, target_column)"
   ]
  },
  {
   "cell_type": "code",
   "execution_count": 16,
   "metadata": {},
   "outputs": [
    {
     "data": {
      "text/plain": [
       "array([[30, 15, 40, 24, 11,  8, 36, 30, 44, 54],\n",
       "       [15, 40, 24, 11,  8, 36, 30, 44, 54, 31],\n",
       "       [40, 24, 11,  8, 36, 30, 44, 54, 31, 42],\n",
       "       [24, 11,  8, 36, 30, 44, 54, 31, 42, 35],\n",
       "       [11,  8, 36, 30, 44, 54, 31, 42, 35, 55]])"
      ]
     },
     "execution_count": 16,
     "metadata": {},
     "output_type": "execute_result"
    }
   ],
   "source": [
    "X[:5]"
   ]
  },
  {
   "cell_type": "code",
   "execution_count": 17,
   "metadata": {},
   "outputs": [
    {
     "data": {
      "text/plain": [
       "(532, 10)"
      ]
     },
     "execution_count": 17,
     "metadata": {},
     "output_type": "execute_result"
    }
   ],
   "source": [
    "X.shape"
   ]
  },
  {
   "cell_type": "code",
   "execution_count": 18,
   "metadata": {},
   "outputs": [
    {
     "data": {
      "text/plain": [
       "array([[ 8084.609863],\n",
       "       [ 8911.269531],\n",
       "       [ 8544.69043 ],\n",
       "       [ 9485.639648],\n",
       "       [10033.75    ]])"
      ]
     },
     "execution_count": 18,
     "metadata": {},
     "output_type": "execute_result"
    }
   ],
   "source": [
    "y[:5]"
   ]
  },
  {
   "cell_type": "code",
   "execution_count": 19,
   "metadata": {},
   "outputs": [
    {
     "data": {
      "text/plain": [
       "(532, 1)"
      ]
     },
     "execution_count": 19,
     "metadata": {},
     "output_type": "execute_result"
    }
   ],
   "source": [
    "y.shape"
   ]
  },
  {
   "cell_type": "markdown",
   "metadata": {},
   "source": [
    "Below I use the int() function and virtually create a split function to divide my data into train and test data for my X and y using 70% for train and 30% for testing."
   ]
  },
  {
   "cell_type": "code",
   "execution_count": 20,
   "metadata": {},
   "outputs": [],
   "source": [
    "split=int(0.7*len(X))\n",
    "X_train=X[:split-1]\n",
    "X_test=X[split:]\n",
    "y_train=y[:split-1]\n",
    "y_test=y[split:]"
   ]
  },
  {
   "cell_type": "code",
   "execution_count": 21,
   "metadata": {},
   "outputs": [
    {
     "data": {
      "text/plain": [
       "(371, 10)"
      ]
     },
     "execution_count": 21,
     "metadata": {},
     "output_type": "execute_result"
    }
   ],
   "source": [
    "X_train.shape"
   ]
  },
  {
   "cell_type": "code",
   "execution_count": 22,
   "metadata": {},
   "outputs": [
    {
     "data": {
      "text/plain": [
       "(371, 1)"
      ]
     },
     "execution_count": 22,
     "metadata": {},
     "output_type": "execute_result"
    }
   ],
   "source": [
    "y_train.shape"
   ]
  },
  {
   "cell_type": "code",
   "execution_count": 23,
   "metadata": {},
   "outputs": [],
   "source": [
    "# Here I use the MinMaxScaler because we want the data to be scaled between 0 and 1.\n",
    "y_scaler=MinMaxScaler()\n",
    "x_scaler=MinMaxScaler()"
   ]
  },
  {
   "cell_type": "code",
   "execution_count": 24,
   "metadata": {},
   "outputs": [
    {
     "data": {
      "text/plain": [
       "MinMaxScaler(copy=True, feature_range=(0, 1))"
      ]
     },
     "execution_count": 24,
     "metadata": {},
     "output_type": "execute_result"
    }
   ],
   "source": [
    "y_scaler.fit(y)\n",
    "x_scaler.fit(X)"
   ]
  },
  {
   "cell_type": "code",
   "execution_count": 25,
   "metadata": {},
   "outputs": [
    {
     "data": {
      "text/plain": [
       "MinMaxScaler(copy=True, feature_range=(0, 1))"
      ]
     },
     "execution_count": 25,
     "metadata": {},
     "output_type": "execute_result"
    }
   ],
   "source": [
    "y_scaler"
   ]
  },
  {
   "cell_type": "code",
   "execution_count": 26,
   "metadata": {},
   "outputs": [
    {
     "data": {
      "text/plain": [
       "MinMaxScaler(copy=True, feature_range=(0, 1))"
      ]
     },
     "execution_count": 26,
     "metadata": {},
     "output_type": "execute_result"
    }
   ],
   "source": [
    "x_scaler"
   ]
  },
  {
   "cell_type": "code",
   "execution_count": 27,
   "metadata": {},
   "outputs": [],
   "source": [
    "X_train_scaled=x_scaler.transform(X_train)\n",
    "X_test_scaled=x_scaler.transform(X_test)"
   ]
  },
  {
   "cell_type": "code",
   "execution_count": 28,
   "metadata": {},
   "outputs": [
    {
     "data": {
      "text/plain": [
       "(371, 10)"
      ]
     },
     "execution_count": 28,
     "metadata": {},
     "output_type": "execute_result"
    }
   ],
   "source": [
    "X_train_scaled.shape"
   ]
  },
  {
   "cell_type": "code",
   "execution_count": 29,
   "metadata": {},
   "outputs": [],
   "source": [
    "y_train_scaled=y_scaler.transform(y_train)\n",
    "y_test_scaled=y_scaler.transform(y_test)"
   ]
  },
  {
   "cell_type": "code",
   "execution_count": 30,
   "metadata": {},
   "outputs": [
    {
     "data": {
      "text/plain": [
       "(371, 1)"
      ]
     },
     "execution_count": 30,
     "metadata": {},
     "output_type": "execute_result"
    }
   ],
   "source": [
    "y_train_scaled.shape"
   ]
  },
  {
   "cell_type": "code",
   "execution_count": 31,
   "metadata": {},
   "outputs": [],
   "source": [
    "# I have to reshape the features for the model because LSTM only accepts data with this dimension.\n",
    "X_train_scaled=X_train_scaled.reshape((X_train_scaled.shape[0],X_train_scaled.shape[1],1))\n",
    "X_test_scaled=X_test_scaled.reshape((X_test_scaled.shape[0],X_test_scaled.shape[1],1))"
   ]
  },
  {
   "cell_type": "markdown",
   "metadata": {},
   "source": [
    "---"
   ]
  },
  {
   "cell_type": "markdown",
   "metadata": {},
   "source": [
    "## DATA ANALYSIS"
   ]
  },
  {
   "cell_type": "markdown",
   "metadata": {},
   "source": [
    "### Build and Train the LSTM RNN"
   ]
  },
  {
   "cell_type": "markdown",
   "metadata": {},
   "source": [
    "Here I will actually construct and train my LSTM RNN. I will be building a Sequential Deep Learning Model. The Model will be deep because it will consist of three layers. I will also be including dropouts which help prevent overfitting by randomly dropping a set percentage of data from the hidden layers. It randomly selects a fraction of the hidden nodes, which you define, and sets their output to zero. In ANN you would use Dense to add hidden layers, but here one can see that we are creating an LSTM RNN by passing LSTM in our .add() argument."
   ]
  },
  {
   "cell_type": "code",
   "execution_count": 32,
   "metadata": {},
   "outputs": [],
   "source": [
    "# Here I create the Sequential model instance.\n",
    "model = Sequential()"
   ]
  },
  {
   "cell_type": "code",
   "execution_count": 33,
   "metadata": {},
   "outputs": [],
   "source": [
    "# Here I define my parameters and breakdown my layers.\n",
    "number_units = 10\n",
    "dropout_fraction = 0.5\n",
    "\n",
    "# This is Layer 1.\n",
    "model.add(LSTM(units=number_units,return_sequences=True,input_shape=(X_train_scaled.shape[1],1)))\n",
    "model.add(Dropout(dropout_fraction))\n",
    "\n",
    "# This is Layer 2.\n",
    "model.add(LSTM(units=number_units, return_sequences=True))\n",
    "model.add(Dropout(dropout_fraction))\n",
    "\n",
    "# This is Layer 3.\n",
    "model.add(LSTM(units=number_units))\n",
    "model.add(Dropout(dropout_fraction))\n",
    "\n",
    "# Here I create my output layer.\n",
    "model.add(Dense(1))"
   ]
  },
  {
   "cell_type": "code",
   "execution_count": 34,
   "metadata": {},
   "outputs": [],
   "source": [
    "# I then have to compile the model.\n",
    "model.compile(optimizer=\"adam\",loss=\"mean_squared_error\")"
   ]
  },
  {
   "cell_type": "code",
   "execution_count": 35,
   "metadata": {},
   "outputs": [
    {
     "name": "stdout",
     "output_type": "stream",
     "text": [
      "Model: \"sequential\"\n",
      "_________________________________________________________________\n",
      "Layer (type)                 Output Shape              Param #   \n",
      "=================================================================\n",
      "lstm (LSTM)                  (None, 10, 10)            480       \n",
      "_________________________________________________________________\n",
      "dropout (Dropout)            (None, 10, 10)            0         \n",
      "_________________________________________________________________\n",
      "lstm_1 (LSTM)                (None, 10, 10)            840       \n",
      "_________________________________________________________________\n",
      "dropout_1 (Dropout)          (None, 10, 10)            0         \n",
      "_________________________________________________________________\n",
      "lstm_2 (LSTM)                (None, 10)                840       \n",
      "_________________________________________________________________\n",
      "dropout_2 (Dropout)          (None, 10)                0         \n",
      "_________________________________________________________________\n",
      "dense (Dense)                (None, 1)                 11        \n",
      "=================================================================\n",
      "Total params: 2,171\n",
      "Trainable params: 2,171\n",
      "Non-trainable params: 0\n",
      "_________________________________________________________________\n"
     ]
    }
   ],
   "source": [
    "# Here I give a summary of the model.\n",
    "model.summary()"
   ]
  },
  {
   "cell_type": "code",
   "execution_count": 36,
   "metadata": {},
   "outputs": [
    {
     "data": {
      "text/plain": [
       "(371, 10, 1)"
      ]
     },
     "execution_count": 36,
     "metadata": {},
     "output_type": "execute_result"
    }
   ],
   "source": [
    "X_train_scaled.shape"
   ]
  },
  {
   "cell_type": "code",
   "execution_count": 37,
   "metadata": {},
   "outputs": [
    {
     "data": {
      "text/plain": [
       "(371, 1)"
      ]
     },
     "execution_count": 37,
     "metadata": {},
     "output_type": "execute_result"
    }
   ],
   "source": [
    "y_train_scaled.shape"
   ]
  },
  {
   "cell_type": "code",
   "execution_count": 38,
   "metadata": {},
   "outputs": [
    {
     "name": "stdout",
     "output_type": "stream",
     "text": [
      "Epoch 1/100\n",
      "75/75 [==============================] - 2s 30ms/step - loss: 0.0947\n",
      "Epoch 2/100\n",
      "75/75 [==============================] - 3s 44ms/step - loss: 0.0637\n",
      "Epoch 3/100\n",
      "75/75 [==============================] - 4s 50ms/step - loss: 0.0618\n",
      "Epoch 4/100\n",
      "75/75 [==============================] - 3s 34ms/step - loss: 0.0611\n",
      "Epoch 5/100\n",
      "75/75 [==============================] - 3s 39ms/step - loss: 0.0597\n",
      "Epoch 6/100\n",
      "75/75 [==============================] - 2s 31ms/step - loss: 0.0539\n",
      "Epoch 7/100\n",
      "75/75 [==============================] - 2s 23ms/step - loss: 0.0573\n",
      "Epoch 8/100\n",
      "75/75 [==============================] - 2s 26ms/step - loss: 0.0558\n",
      "Epoch 9/100\n",
      "75/75 [==============================] - 2s 29ms/step - loss: 0.0528\n",
      "Epoch 10/100\n",
      "75/75 [==============================] - 2s 26ms/step - loss: 0.0475\n",
      "Epoch 11/100\n",
      "75/75 [==============================] - 2s 33ms/step - loss: 0.0476\n",
      "Epoch 12/100\n",
      "75/75 [==============================] - 3s 35ms/step - loss: 0.0475\n",
      "Epoch 13/100\n",
      "75/75 [==============================] - 3s 35ms/step - loss: 0.0513\n",
      "Epoch 14/100\n",
      "75/75 [==============================] - 2s 31ms/step - loss: 0.0480\n",
      "Epoch 15/100\n",
      "75/75 [==============================] - 3s 39ms/step - loss: 0.0460\n",
      "Epoch 16/100\n",
      "75/75 [==============================] - 4s 49ms/step - loss: 0.0449\n",
      "Epoch 17/100\n",
      "75/75 [==============================] - 4s 49ms/step - loss: 0.0460\n",
      "Epoch 18/100\n",
      "75/75 [==============================] - 4s 47ms/step - loss: 0.0464\n",
      "Epoch 19/100\n",
      "75/75 [==============================] - 4s 50ms/step - loss: 0.0433\n",
      "Epoch 20/100\n",
      "75/75 [==============================] - 5s 61ms/step - loss: 0.0429\n",
      "Epoch 21/100\n",
      "75/75 [==============================] - 3s 45ms/step - loss: 0.0405\n",
      "Epoch 22/100\n",
      "75/75 [==============================] - 4s 51ms/step - loss: 0.0439\n",
      "Epoch 23/100\n",
      "75/75 [==============================] - 3s 39ms/step - loss: 0.0419\n",
      "Epoch 24/100\n",
      "75/75 [==============================] - 2s 26ms/step - loss: 0.0420\n",
      "Epoch 25/100\n",
      "75/75 [==============================] - 2s 26ms/step - loss: 0.0419\n",
      "Epoch 26/100\n",
      "75/75 [==============================] - 3s 34ms/step - loss: 0.0408\n",
      "Epoch 27/100\n",
      "75/75 [==============================] - 3s 38ms/step - loss: 0.0434\n",
      "Epoch 28/100\n",
      "75/75 [==============================] - 2s 22ms/step - loss: 0.0410\n",
      "Epoch 29/100\n",
      "75/75 [==============================] - 2s 23ms/step - loss: 0.0376\n",
      "Epoch 30/100\n",
      "75/75 [==============================] - 2s 22ms/step - loss: 0.0411\n",
      "Epoch 31/100\n",
      "75/75 [==============================] - 2s 24ms/step - loss: 0.0407\n",
      "Epoch 32/100\n",
      "75/75 [==============================] - 2s 22ms/step - loss: 0.0410\n",
      "Epoch 33/100\n",
      "75/75 [==============================] - 2s 31ms/step - loss: 0.0384\n",
      "Epoch 34/100\n",
      "75/75 [==============================] - 2s 32ms/step - loss: 0.0388\n",
      "Epoch 35/100\n",
      "75/75 [==============================] - 3s 34ms/step - loss: 0.0409\n",
      "Epoch 36/100\n",
      "75/75 [==============================] - 2s 27ms/step - loss: 0.0392\n",
      "Epoch 37/100\n",
      "75/75 [==============================] - 3s 39ms/step - loss: 0.0369\n",
      "Epoch 38/100\n",
      "75/75 [==============================] - 3s 34ms/step - loss: 0.0381\n",
      "Epoch 39/100\n",
      "75/75 [==============================] - 3s 36ms/step - loss: 0.0393\n",
      "Epoch 40/100\n",
      "75/75 [==============================] - 2s 30ms/step - loss: 0.0397\n",
      "Epoch 41/100\n",
      "75/75 [==============================] - 2s 23ms/step - loss: 0.0384\n",
      "Epoch 42/100\n",
      "75/75 [==============================] - 2s 29ms/step - loss: 0.0383: 0s - loss: 0 - ETA: 0s - loss\n",
      "Epoch 43/100\n",
      "75/75 [==============================] - 3s 41ms/step - loss: 0.0385\n",
      "Epoch 44/100\n",
      "75/75 [==============================] - 2s 27ms/step - loss: 0.0399\n",
      "Epoch 45/100\n",
      "75/75 [==============================] - 3s 35ms/step - loss: 0.0387\n",
      "Epoch 46/100\n",
      "75/75 [==============================] - 3s 37ms/step - loss: 0.0384\n",
      "Epoch 47/100\n",
      "75/75 [==============================] - 5s 60ms/step - loss: 0.0391\n",
      "Epoch 48/100\n",
      "75/75 [==============================] - 4s 49ms/step - loss: 0.0369\n",
      "Epoch 49/100\n",
      "75/75 [==============================] - 3s 38ms/step - loss: 0.0362\n",
      "Epoch 50/100\n",
      "75/75 [==============================] - 3s 38ms/step - loss: 0.0388\n",
      "Epoch 51/100\n",
      "75/75 [==============================] - 4s 55ms/step - loss: 0.0382\n",
      "Epoch 52/100\n",
      "75/75 [==============================] - 2s 32ms/step - loss: 0.0377\n",
      "Epoch 53/100\n",
      "75/75 [==============================] - 2s 28ms/step - loss: 0.0382\n",
      "Epoch 54/100\n",
      "75/75 [==============================] - 4s 47ms/step - loss: 0.0381\n",
      "Epoch 55/100\n",
      "75/75 [==============================] - 3s 44ms/step - loss: 0.0386\n",
      "Epoch 56/100\n",
      "75/75 [==============================] - 2s 33ms/step - loss: 0.0376\n",
      "Epoch 57/100\n",
      "75/75 [==============================] - 2s 26ms/step - loss: 0.0359\n",
      "Epoch 58/100\n",
      "75/75 [==============================] - 2s 26ms/step - loss: 0.0376\n",
      "Epoch 59/100\n",
      "75/75 [==============================] - 2s 27ms/step - loss: 0.0368\n",
      "Epoch 60/100\n",
      "75/75 [==============================] - 2s 30ms/step - loss: 0.0378\n",
      "Epoch 61/100\n",
      "75/75 [==============================] - 3s 36ms/step - loss: 0.0373\n",
      "Epoch 62/100\n",
      "75/75 [==============================] - 2s 27ms/step - loss: 0.0369\n",
      "Epoch 63/100\n",
      "75/75 [==============================] - 2s 27ms/step - loss: 0.0375\n",
      "Epoch 64/100\n",
      "75/75 [==============================] - 2s 26ms/step - loss: 0.0382\n",
      "Epoch 65/100\n",
      "75/75 [==============================] - 2s 31ms/step - loss: 0.0378\n",
      "Epoch 66/100\n",
      "75/75 [==============================] - 3s 44ms/step - loss: 0.0367\n",
      "Epoch 67/100\n",
      "75/75 [==============================] - 3s 37ms/step - loss: 0.0374\n",
      "Epoch 68/100\n",
      "75/75 [==============================] - 3s 34ms/step - loss: 0.0385\n",
      "Epoch 69/100\n",
      "75/75 [==============================] - 2s 30ms/step - loss: 0.0370\n",
      "Epoch 70/100\n",
      "75/75 [==============================] - 2s 33ms/step - loss: 0.0363\n",
      "Epoch 71/100\n",
      "75/75 [==============================] - 3s 38ms/step - loss: 0.0382\n",
      "Epoch 72/100\n",
      "75/75 [==============================] - 2s 33ms/step - loss: 0.0366\n",
      "Epoch 73/100\n",
      "75/75 [==============================] - 3s 44ms/step - loss: 0.0362\n",
      "Epoch 74/100\n",
      "75/75 [==============================] - 3s 36ms/step - loss: 0.0366\n",
      "Epoch 75/100\n",
      "75/75 [==============================] - 3s 35ms/step - loss: 0.0369\n",
      "Epoch 76/100\n",
      "75/75 [==============================] - 2s 30ms/step - loss: 0.0371\n",
      "Epoch 77/100\n",
      "75/75 [==============================] - 3s 34ms/step - loss: 0.0365: 0s - los\n",
      "Epoch 78/100\n",
      "75/75 [==============================] - 2s 28ms/step - loss: 0.0380\n",
      "Epoch 79/100\n",
      "75/75 [==============================] - 3s 38ms/step - loss: 0.0364\n",
      "Epoch 80/100\n",
      "75/75 [==============================] - 3s 39ms/step - loss: 0.0377: 1s\n",
      "Epoch 81/100\n",
      "75/75 [==============================] - 3s 34ms/step - loss: 0.0379\n",
      "Epoch 82/100\n",
      "75/75 [==============================] - 3s 34ms/step - loss: 0.0371\n",
      "Epoch 83/100\n",
      "75/75 [==============================] - 3s 38ms/step - loss: 0.0376\n",
      "Epoch 84/100\n",
      "75/75 [==============================] - 3s 36ms/step - loss: 0.0359: 0s - loss: \n",
      "Epoch 85/100\n",
      "75/75 [==============================] - 3s 39ms/step - loss: 0.0352\n",
      "Epoch 86/100\n",
      "75/75 [==============================] - 2s 33ms/step - loss: 0.0362\n",
      "Epoch 87/100\n",
      "75/75 [==============================] - 3s 42ms/step - loss: 0.0367\n",
      "Epoch 88/100\n",
      "75/75 [==============================] - 2s 29ms/step - loss: 0.0366\n",
      "Epoch 89/100\n",
      "75/75 [==============================] - 2s 27ms/step - loss: 0.0364\n",
      "Epoch 90/100\n",
      "75/75 [==============================] - 2s 27ms/step - loss: 0.0358\n",
      "Epoch 91/100\n",
      "75/75 [==============================] - 2s 28ms/step - loss: 0.0366\n",
      "Epoch 92/100\n",
      "75/75 [==============================] - 2s 28ms/step - loss: 0.0365\n",
      "Epoch 93/100\n",
      "75/75 [==============================] - 3s 37ms/step - loss: 0.0366\n",
      "Epoch 94/100\n",
      "75/75 [==============================] - 5s 61ms/step - loss: 0.0353: 0s - los - ETA: 0s - loss:  - ETA: 0s - loss: 0.035\n",
      "Epoch 95/100\n",
      "75/75 [==============================] - 3s 37ms/step - loss: 0.0359\n",
      "Epoch 96/100\n",
      "75/75 [==============================] - 2s 25ms/step - loss: 0.0363: 0s - loss: 0.0\n",
      "Epoch 97/100\n",
      "75/75 [==============================] - 2s 24ms/step - loss: 0.0361\n",
      "Epoch 98/100\n",
      "75/75 [==============================] - 2s 25ms/step - loss: 0.0360\n",
      "Epoch 99/100\n",
      "75/75 [==============================] - 3s 35ms/step - loss: 0.0358\n",
      "Epoch 100/100\n",
      "75/75 [==============================] - 2s 23ms/step - loss: 0.0364\n"
     ]
    },
    {
     "data": {
      "text/plain": [
       "<tensorflow.python.keras.callbacks.History at 0x7fdcbaf35350>"
      ]
     },
     "execution_count": 38,
     "metadata": {},
     "output_type": "execute_result"
    }
   ],
   "source": [
    "# Here I train/fit the model to our training data.\n",
    "model.fit(X_train_scaled,y_train_scaled,epochs=100,shuffle=False,batch_size=5,verbose=1)"
   ]
  },
  {
   "cell_type": "markdown",
   "metadata": {},
   "source": [
    "---"
   ]
  },
  {
   "cell_type": "markdown",
   "metadata": {},
   "source": [
    "### Model Performance"
   ]
  },
  {
   "cell_type": "markdown",
   "metadata": {},
   "source": [
    "Here I will analyze how good the model is."
   ]
  },
  {
   "cell_type": "code",
   "execution_count": 39,
   "metadata": {},
   "outputs": [
    {
     "name": "stdout",
     "output_type": "stream",
     "text": [
      "5/5 [==============================] - 0s 5ms/step - loss: 0.0817\n"
     ]
    },
    {
     "data": {
      "text/plain": [
       "0.08172450214624405"
      ]
     },
     "execution_count": 39,
     "metadata": {},
     "output_type": "execute_result"
    }
   ],
   "source": [
    "# Here I evaluate how effective the model is with the testing data.\n",
    "model.evaluate(X_test_scaled,y_test_scaled)"
   ]
  },
  {
   "cell_type": "code",
   "execution_count": 40,
   "metadata": {},
   "outputs": [],
   "source": [
    "# Here I use my scaled testing data to make predictions with our model.\n",
    "predictions=model.predict(X_test_scaled)"
   ]
  },
  {
   "cell_type": "code",
   "execution_count": 41,
   "metadata": {},
   "outputs": [],
   "source": [
    "# Since we used the MinMaxScaler I have to recover the original prices by using .inverse_transform().\n",
    "predicted_prices = y_scaler.inverse_transform(predictions)\n",
    "real_prices = y_scaler.inverse_transform(y_test_scaled.reshape(-1, 1))"
   ]
  },
  {
   "cell_type": "code",
   "execution_count": 42,
   "metadata": {},
   "outputs": [
    {
     "data": {
      "text/html": [
       "<div>\n",
       "<style scoped>\n",
       "    .dataframe tbody tr th:only-of-type {\n",
       "        vertical-align: middle;\n",
       "    }\n",
       "\n",
       "    .dataframe tbody tr th {\n",
       "        vertical-align: top;\n",
       "    }\n",
       "\n",
       "    .dataframe thead th {\n",
       "        text-align: right;\n",
       "    }\n",
       "</style>\n",
       "<table border=\"1\" class=\"dataframe\">\n",
       "  <thead>\n",
       "    <tr style=\"text-align: right;\">\n",
       "      <th></th>\n",
       "      <th>Real</th>\n",
       "      <th>Predicted</th>\n",
       "    </tr>\n",
       "  </thead>\n",
       "  <tbody>\n",
       "    <tr>\n",
       "      <th>2019-02-20</th>\n",
       "      <td>3924.239990</td>\n",
       "      <td>7041.824707</td>\n",
       "    </tr>\n",
       "    <tr>\n",
       "      <th>2019-02-21</th>\n",
       "      <td>3974.050049</td>\n",
       "      <td>7266.647461</td>\n",
       "    </tr>\n",
       "    <tr>\n",
       "      <th>2019-02-22</th>\n",
       "      <td>3937.040039</td>\n",
       "      <td>7478.600098</td>\n",
       "    </tr>\n",
       "    <tr>\n",
       "      <th>2019-02-23</th>\n",
       "      <td>3983.530029</td>\n",
       "      <td>7688.379883</td>\n",
       "    </tr>\n",
       "    <tr>\n",
       "      <th>2019-02-24</th>\n",
       "      <td>4149.089844</td>\n",
       "      <td>7839.656738</td>\n",
       "    </tr>\n",
       "  </tbody>\n",
       "</table>\n",
       "</div>"
      ],
      "text/plain": [
       "                   Real    Predicted\n",
       "2019-02-20  3924.239990  7041.824707\n",
       "2019-02-21  3974.050049  7266.647461\n",
       "2019-02-22  3937.040039  7478.600098\n",
       "2019-02-23  3983.530029  7688.379883\n",
       "2019-02-24  4149.089844  7839.656738"
      ]
     },
     "execution_count": 42,
     "metadata": {},
     "output_type": "execute_result"
    }
   ],
   "source": [
    "# Here I create a DataFrame of Real and Predicted values.\n",
    "stocks = pd.DataFrame({\n",
    "    \"Real\": real_prices.ravel(),\n",
    "    \"Predicted\": predicted_prices.ravel()\n",
    "}, index = df.index[-len(real_prices): ]) \n",
    "stocks.head()"
   ]
  },
  {
   "cell_type": "code",
   "execution_count": 43,
   "metadata": {},
   "outputs": [
    {
     "data": {
      "text/plain": [
       "<matplotlib.axes._subplots.AxesSubplot at 0x7fdcc32eadd0>"
      ]
     },
     "execution_count": 43,
     "metadata": {},
     "output_type": "execute_result"
    },
    {
     "data": {
      "image/png": "[encoded data removed]",
      "text/plain": [
       "<Figure size 432x288 with 1 Axes>"
      ]
     },
     "metadata": {
      "needs_background": "light"
     },
     "output_type": "display_data"
    }
   ],
   "source": [
    "# Finally I plot the real vs predicted values as a line chart.\n",
    "stocks.plot()"
   ]
  },
  {
   "cell_type": "markdown",
   "metadata": {},
   "source": [
    "One can see above that the model did terribly."
   ]
  }
 ],
 "metadata": {
  "file_extension": ".py",
  "kernelspec": {
   "display_name": "Python 3",
   "language": "python",
   "name": "python3"
  },
  "language_info": {
   "codemirror_mode": {
    "name": "ipython",
    "version": 3
   },
   "file_extension": ".py",
   "mimetype": "text/x-python",
   "name": "python",
   "nbconvert_exporter": "python",
   "pygments_lexer": "ipython3",
   "version": "3.7.6"
  },
  "mimetype": "text/x-python",
  "name": "python",
  "npconvert_exporter": "python",
  "pygments_lexer": "ipython3",
  "version": 3
 },
 "nbformat": 4,
 "nbformat_minor": 4
}
